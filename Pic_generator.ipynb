{
 "cells": [
  {
   "cell_type": "code",
   "execution_count": 1,
   "metadata": {},
   "outputs": [],
   "source": [
    "import pandas as pd\n",
    "import numpy as np\n",
    "import json\n",
    "import sys\n",
    "import folium\n",
    "import branca.colormap as cm\n",
    "import os\n",
    "import time\n",
    "import datetime\n",
    "from selenium import webdriver\n",
    "\n",
    "sys.path.append('..')"
   ]
  },
  {
   "cell_type": "code",
   "execution_count": 2,
   "metadata": {},
   "outputs": [],
   "source": [
    "def getColor(d):\n",
    "    try:\n",
    "        return lin(rate_dict[d])\n",
    "    except:\n",
    "        return '#FFFFFF'"
   ]
  },
  {
   "cell_type": "code",
   "execution_count": 3,
   "metadata": {},
   "outputs": [],
   "source": [
    "df = pd.read_csv('data/rt_datewise.csv')\n",
    "df1 = df[['date', 'state', 'ML']]\n",
    "dates = df1.date.unique()"
   ]
  },
  {
   "cell_type": "code",
   "execution_count": 4,
   "metadata": {},
   "outputs": [
    {
     "data": {
      "text/plain": [
       "44"
      ]
     },
     "execution_count": 4,
     "metadata": {},
     "output_type": "execute_result"
    }
   ],
   "source": [
    "dates.shape[0]"
   ]
  },
  {
   "cell_type": "code",
   "execution_count": 5,
   "metadata": {},
   "outputs": [
    {
     "data": {
      "text/plain": [
       "'16-Mar-2020'"
      ]
     },
     "execution_count": 5,
     "metadata": {},
     "output_type": "execute_result"
    }
   ],
   "source": [
    "index  = 2\n",
    "dates[index]\n",
    "datetime.datetime.strptime(dates[index], '%Y-%m-%d').strftime('%d-%b-%Y')"
   ]
  },
  {
   "cell_type": "code",
   "execution_count": null,
   "metadata": {},
   "outputs": [
    {
     "name": "stdout",
     "output_type": "stream",
     "text": [
      "2020-03-14\n",
      "Map generated\n",
      "Map saved\n"
     ]
    }
   ],
   "source": [
    "for index in range(dates.shape[0]):\n",
    "    print(dates[index])\n",
    "    df2 = df1[df1['date']==dates[index]]\n",
    "    df2 = df2.replace(['AP', 'BR', 'DL', 'GJ', 'HR', 'JK', 'KA', 'KL', 'MH', 'MP', 'PB',\n",
    "       'RJ', 'TG', 'TN', 'UP', 'WB'],\n",
    "        ['Andhra Pradesh',\n",
    "        'Bihar',\n",
    "        'Delhi',\n",
    "        'Gujarat',\n",
    "        'Haryana',\n",
    "        'Jammu & Kashmir',\n",
    "        'Karnataka',\n",
    "        'Kerala', 'Maharashtra',                                    \n",
    "        'Madhya Pradesh',\n",
    "        'Punjab',\n",
    "        'Rajasthan',\n",
    "        'Telengana',  \n",
    "        'Tamil Nadu',\n",
    "        'Uttar Pradesh',\n",
    "        'West Bengal'])\n",
    "\n",
    "    geo_json_data = json.load(open('data/india/state/india_telengana.geojson'))\n",
    "    rate_dict = df2.set_index('state')['ML']\n",
    "    added_list = ['Andhra Pradesh',\n",
    "                    'Bihar',\n",
    "                    'Delhi',\n",
    "                    'Gujarat',\n",
    "                    'Haryana',\n",
    "                    'Jammu & Kashmir',\n",
    "                    'Karnataka',\n",
    "                    'Kerala', \n",
    "                    'Maharashtra',                                    \n",
    "                    'Madhya Pradesh',\n",
    "                    'Punjab',\n",
    "                    'Rajasthan',\n",
    "                    'Telengana',  \n",
    "                    'Tamil Nadu',\n",
    "                    'Uttar Pradesh',\n",
    "                    'West Bengal']\n",
    "\n",
    "    i = 0\n",
    "    for key in geo_json_data['features']:\n",
    "        if geo_json_data['features'][i]['properties']['NAME_1'] not in added_list:\n",
    "            st = geo_json_data['features'][i]['properties']['NAME_1']\n",
    "            rate_dict[st] = 0\n",
    "            i = i+1\n",
    "\n",
    "    m = folium.Map(location=[21, 78], tiles='cartodbpositron', zoom_start=4)\n",
    "\n",
    "    lin = cm.LinearColormap(['#004d00','#00cc00','#ffd9b3','#ff6966',\n",
    "                            '#e60400','#ff0400', '#660000'], \n",
    "                            index = [0,0.5,0.7,0.9,1.2,1.5,3.5], vmin=0, vmax=6)    \n",
    "\n",
    "    folium.GeoJson(\n",
    "    geo_json_data,\n",
    "    style_function=lambda feature: {\n",
    "        'fillColor': getColor(feature['properties']['NAME_1']),\n",
    "        'color' : 'black',\n",
    "        'weight' : 2,\n",
    "        'dashArray' : '5, 5'\n",
    "        }\n",
    "    ).add_to(m)\n",
    "\n",
    "    title_html = '''\n",
    "                 <h3 align=\"center\" style=\"font-size:20px\"><b>State wise Real-time R0(Rt) for India as on {}</b></h3>\n",
    "                 '''.format(datetime.datetime.strptime(dates[index], '%Y-%m-%d').strftime('%d-%b-%Y'))\n",
    "    m.get_root().html.add_child(folium.Element(title_html))\n",
    "\n",
    "    m\n",
    "    print('Map generated')\n",
    "\n",
    "    m.save('{}.html'.format(dates[index]))\n",
    "    print('Map saved')\n",
    "\n",
    "    delay=5\n",
    "    time.sleep(3)\n",
    "\n",
    "    fn='{}.html'.format(dates[index])\n",
    "    tmpurl='file://{path}/{mapfile}'.format(path=os.getcwd(),mapfile=fn)\n",
    "    m.save(fn)\n",
    "\n",
    "    browser = webdriver.Chrome('chromedriver')\n",
    "    browser.get(tmpurl)\n",
    "    time.sleep(delay)\n",
    "    browser.save_screenshot('Rt_{}.png'.format(dates[index]))\n",
    "    browser.quit()\n",
    "    print('Rt_{}.png Image saved'.format(dates[index]))"
   ]
  },
  {
   "cell_type": "code",
   "execution_count": null,
   "metadata": {},
   "outputs": [],
   "source": [
    "# Converting to GIF\n",
    "import imageio\n",
    "with imageio.get_writer('Rt_India.gif', mode = 'I') as writer:\n",
    "    for index in range(dates.shape[0]):\n",
    "        image = imageio.imread('Rt_{}.png'.format(dates[index]))\n",
    "        writer.append_data(image)\n"
   ]
  },
  {
   "cell_type": "code",
   "execution_count": 43,
   "metadata": {},
   "outputs": [],
   "source": [
    "# Converting to GIF\n",
    "import imageio\n",
    "\n",
    "exportname = \"Rt_India.gif\"\n",
    "kargs = { 'duration': 0.5 }\n",
    "frames = []        \n",
    "for index in range(dates.shape[0]):\n",
    "    image = imageio.imread('Rt_{}.png'.format(dates[index]))\n",
    "    frames.append(image)\n",
    "\n",
    "imageio.mimsave(exportname, frames, 'GIF', **kargs)"
   ]
  },
  {
   "cell_type": "code",
   "execution_count": 44,
   "metadata": {},
   "outputs": [],
   "source": [
    "!convert -loop 1 Rt_India.gif Rt_India_single.gif"
   ]
  },
  {
   "cell_type": "code",
   "execution_count": null,
   "metadata": {},
   "outputs": [],
   "source": []
  }
 ],
 "metadata": {
  "kernelspec": {
   "display_name": "Python 3",
   "language": "python",
   "name": "python3"
  },
  "language_info": {
   "codemirror_mode": {
    "name": "ipython",
    "version": 3
   },
   "file_extension": ".py",
   "mimetype": "text/x-python",
   "name": "python",
   "nbconvert_exporter": "python",
   "pygments_lexer": "ipython3",
   "version": "3.8.2"
  }
 },
 "nbformat": 4,
 "nbformat_minor": 4
}
